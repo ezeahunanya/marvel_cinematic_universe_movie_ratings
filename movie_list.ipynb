{
 "cells": [
  {
   "cell_type": "markdown",
   "metadata": {},
   "source": [
    "A list of all the movies in the MCU will be extracted from wikipedia. These will then be used to make the list of Rotten Tomatoes urls where the movie data will be extracted from."
   ]
  },
  {
   "cell_type": "code",
   "execution_count": 1,
   "metadata": {},
   "outputs": [],
   "source": [
    "A list of all the movies in the MCU will be extracted from wikipedia. These will then be used to make the list of Rotten Tomatoes urls where the movie data will be extracted from.import requests \n",
    "from bs4 import BeautifulSoup"
   ]
  },
  {
   "cell_type": "code",
   "execution_count": 2,
   "metadata": {},
   "outputs": [],
   "source": [
    "# url contains movie titles\n",
    "url = 'https://en.wikipedia.org/wiki/Marvel_Cinematic_Universe#Films'\n",
    "\n",
    "# save html file in response variable\n",
    "response = requests.get(url)"
   ]
  },
  {
   "cell_type": "code",
   "execution_count": 3,
   "metadata": {},
   "outputs": [],
   "source": [
    "# parse html file and save to soup variable\n",
    "soup = BeautifulSoup(response.content, 'lxml')"
   ]
  },
  {
   "cell_type": "code",
   "execution_count": 4,
   "metadata": {},
   "outputs": [
    {
     "name": "stdout",
     "output_type": "stream",
     "text": [
      "14 Iron Man\n",
      "15 The Incredible Hulk\n",
      "16 Iron Man 2\n",
      "17 Thor\n",
      "18 Captain America: The First Avenger\n",
      "19 Marvel's The Avengers\n",
      "20 Iron Man 3\n",
      "21 Thor: The Dark World\n",
      "22 Captain America: The Winter Soldier\n",
      "23 Guardians of the Galaxy\n",
      "24 Avengers: Age of Ultron\n",
      "25 Ant-Man\n",
      "26 Captain America: Civil War\n",
      "27 Doctor Strange\n",
      "28 Guardians of the Galaxy Vol. 2\n",
      "29 Spider-Man: Homecoming\n",
      "30 Thor: Ragnarok\n",
      "31 Black Panther\n",
      "32 Avengers: Infinity War\n",
      "33 Ant-Man and the Wasp\n",
      "34 Captain Marvel\n",
      "35 Avengers: Endgame\n",
      "36 Spider-Man: Far From Home\n"
     ]
    }
   ],
   "source": [
    "movies_list = []\n",
    "\n",
    "for i in [x for x in range(14, 37)]:\n",
    "    \n",
    "    # extract movie titles inside 'th' tag from 15th to 37th elements in the list\n",
    "    movie_line = soup.find_all('th', scope=\"row\")[i] \n",
    "    movie_title = movie_line.contents[0].contents[0].contents[0] \n",
    "    print(i, movie_title)\n",
    "    movies_list.append(movie_title)"
   ]
  },
  {
   "cell_type": "code",
   "execution_count": 5,
   "metadata": {},
   "outputs": [
    {
     "name": "stdout",
     "output_type": "stream",
     "text": [
      "https://www.rottentomatoes.com/m/iron_man\n",
      "https://www.rottentomatoes.com/m/the_incredible_hulk\n",
      "https://www.rottentomatoes.com/m/iron_man_2\n",
      "https://www.rottentomatoes.com/m/thor\n",
      "https://www.rottentomatoes.com/m/captain_america_the_first_avenger\n",
      "https://www.rottentomatoes.com/m/marvels_the_avengers\n",
      "https://www.rottentomatoes.com/m/iron_man_3\n",
      "https://www.rottentomatoes.com/m/thor_the_dark_world\n",
      "https://www.rottentomatoes.com/m/captain_america_the_winter_soldier\n",
      "https://www.rottentomatoes.com/m/guardians_of_the_galaxy\n",
      "https://www.rottentomatoes.com/m/avengers_age_of_ultron\n",
      "https://www.rottentomatoes.com/m/ant_man\n",
      "https://www.rottentomatoes.com/m/captain_america_civil_war\n",
      "https://www.rottentomatoes.com/m/doctor_strange\n",
      "https://www.rottentomatoes.com/m/guardians_of_the_galaxy_vol_2\n",
      "https://www.rottentomatoes.com/m/spider_man_homecoming\n",
      "https://www.rottentomatoes.com/m/thor_ragnarok\n",
      "https://www.rottentomatoes.com/m/black_panther\n",
      "https://www.rottentomatoes.com/m/avengers_infinity_war\n",
      "https://www.rottentomatoes.com/m/ant_man_and_the_wasp\n",
      "https://www.rottentomatoes.com/m/captain_marvel\n",
      "https://www.rottentomatoes.com/m/avengers_endgame\n",
      "https://www.rottentomatoes.com/m/spider_man_far_from_home\n"
     ]
    }
   ],
   "source": [
    "urls_list = []\n",
    "\n",
    "for movie_title in movies_list:\n",
    "    \n",
    "    # format movie strings for urls\n",
    "    movie_title = (movie_title.lower().replace(\" \", \"_\").replace(\"-\", \"_\")\n",
    "    .replace(\":\", \"\").replace(\"'\", \"\").replace(\".\", \"\"))\n",
    "    url = 'https://www.rottentomatoes.com/m/{}'.format(movie_title)\n",
    "    print(url)\n",
    "    urls_list.append(url) "
   ]
  },
  {
   "cell_type": "code",
   "execution_count": 6,
   "metadata": {},
   "outputs": [],
   "source": [
    "# correct faulty url addresses\n",
    "urls_list[13] = 'https://www.rottentomatoes.com/m/doctor_strange_2016'\n",
    "urls_list[17] = 'https://www.rottentomatoes.com/m/black_panther_2018'"
   ]
  },
  {
   "cell_type": "code",
   "execution_count": 7,
   "metadata": {},
   "outputs": [
    {
     "data": {
      "text/plain": [
       "['https://www.rottentomatoes.com/m/iron_man',\n",
       " 'https://www.rottentomatoes.com/m/the_incredible_hulk',\n",
       " 'https://www.rottentomatoes.com/m/iron_man_2',\n",
       " 'https://www.rottentomatoes.com/m/thor',\n",
       " 'https://www.rottentomatoes.com/m/captain_america_the_first_avenger',\n",
       " 'https://www.rottentomatoes.com/m/marvels_the_avengers',\n",
       " 'https://www.rottentomatoes.com/m/iron_man_3',\n",
       " 'https://www.rottentomatoes.com/m/thor_the_dark_world',\n",
       " 'https://www.rottentomatoes.com/m/captain_america_the_winter_soldier',\n",
       " 'https://www.rottentomatoes.com/m/guardians_of_the_galaxy',\n",
       " 'https://www.rottentomatoes.com/m/avengers_age_of_ultron',\n",
       " 'https://www.rottentomatoes.com/m/ant_man',\n",
       " 'https://www.rottentomatoes.com/m/captain_america_civil_war',\n",
       " 'https://www.rottentomatoes.com/m/doctor_strange_2016',\n",
       " 'https://www.rottentomatoes.com/m/guardians_of_the_galaxy_vol_2',\n",
       " 'https://www.rottentomatoes.com/m/spider_man_homecoming',\n",
       " 'https://www.rottentomatoes.com/m/thor_ragnarok',\n",
       " 'https://www.rottentomatoes.com/m/black_panther_2018',\n",
       " 'https://www.rottentomatoes.com/m/avengers_infinity_war',\n",
       " 'https://www.rottentomatoes.com/m/ant_man_and_the_wasp',\n",
       " 'https://www.rottentomatoes.com/m/captain_marvel',\n",
       " 'https://www.rottentomatoes.com/m/avengers_endgame',\n",
       " 'https://www.rottentomatoes.com/m/spider_man_far_from_home']"
      ]
     },
     "execution_count": 7,
     "metadata": {},
     "output_type": "execute_result"
    }
   ],
   "source": [
    "urls_list"
   ]
  },
  {
   "cell_type": "code",
   "execution_count": null,
   "metadata": {},
   "outputs": [],
   "source": []
  }
 ],
 "metadata": {
  "kernelspec": {
   "display_name": "Python 3",
   "language": "python",
   "name": "python3"
  },
  "language_info": {
   "codemirror_mode": {
    "name": "ipython",
    "version": 3
   },
   "file_extension": ".py",
   "mimetype": "text/x-python",
   "name": "python",
   "nbconvert_exporter": "python",
   "pygments_lexer": "ipython3",
   "version": "3.7.7"
  }
 },
 "nbformat": 4,
 "nbformat_minor": 4
}
